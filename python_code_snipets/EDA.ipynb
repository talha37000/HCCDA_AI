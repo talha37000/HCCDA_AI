import pandas as pd
# import matplotlib.pyplot as plt
# import seaborn as sns

dataframe = pd.read_csv("Titanic-Dataset.csv")

dataframe.shape

dataframe.columns

dataframe.describe()

sns.set(style="whitegrid")
plt.rcParams["figure.figsize"] = (10, 6)

sns.heatmap(dataframe.isnull(), cbar=False, cmap="viridis")
plt.title('Missing Values Heatmap')
plt.show()

dataframe.isnull().sum()


dataframe['Age'].hist(bins=30)
plt.title("age distribution")
plt.xlabel('Age')
plt.ylabel('Count')
plt.show()

survive = dataframe['Survived'].value_counts()


survive.plot(kind='bar')
plt.show()





sns.boxplot(x='Sex', y='Age', data=dataframe)
plt.title("age and sex")
plt.show()


sns.violinplot(x='Pclass', y='Fare', data=dataframe)
plt.title('Fare by Class')
plt.show()

dataframe['Pclass'].value_counts()

pd.crosstab(dataframe['Sex'], dataframe['Survived'], normalize='index').plot(kind='bar', stacked=True)
# plt.title('Survival Rate by Gender')
# plt.ylabel('Proportion Survived')
plt.show()
