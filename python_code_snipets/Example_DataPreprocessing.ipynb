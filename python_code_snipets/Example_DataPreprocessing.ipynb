from sklearn.datasets import load_iris, fetch_california_housing
from sklearn.feature_selection import SelectKBest, chi2, RFE
from sklearn.svm import SVC
from sklearn.linear_model import LassoCV
import pandas as pd

# 1. Load the Iris dataset for Filter and Wrapper method
iris_data = load_iris()
X_iris = pd.DataFrame(iris_data.data, columns=iris_data.feature_names)
y_iris = iris_data.target

# 2. Load California housing dataset for the Embedded method
california_data = fetch_california_housing()
X_california = pd.DataFrame(california_data.data, columns=california_data.feature_names)
y_california = california_data.target

# ------------------- Filter Method (Chi-Squared) -------------------
filter_selector = SelectKBest(chi2, k='all')  # Get scores for all features
filter_selector.fit(X_iris, y_iris)

filter_scores = pd.DataFrame({'Feature': X_iris.columns, 'Score': filter_selector.scores_})
filter_scores = filter_scores.sort_values(by='Score', ascending=False)
top_features_filter = filter_scores.head(2)

# ------------------- Wrapper Method (RFE with SVC) -------------------
wrapper_estimator = SVC(kernel="linear")
wrapper_selector = RFE(wrapper_estimator, n_features_to_select=1)
wrapper_selector.fit(X_iris, y_iris)

wrapper_ranking = pd.DataFrame({'Feature': X_iris.columns, 'Ranking': wrapper_selector.ranking_})
wrapper_ranking = wrapper_ranking.sort_values(by='Ranking')
top_features_wrapper = wrapper_ranking.head(2)

# ------------------- Embedded Method (LassoCV) -------------------
lasso = LassoCV(cv=5)
lasso.fit(X_california, y_california)

lasso_coefficients = pd.DataFrame({'Feature': X_california.columns, 'Coefficient': lasso.coef_})
lasso_coefficients = lasso_coefficients.sort_values(by='Coefficient', ascending=False)
top_features_embedded = lasso_coefficients.head(2)

# ------------------- Display Results -------------------
print("Filter Method - Feature Scores (Chi-Squared Test):")
print(filter_scores)
print(f"\nTop features selected: {top_features_filter['Feature'].values}\n")

print("Wrapper Method - Feature Rankings (RFE with SVC):")
print(wrapper_ranking)
print(f"\nTop features selected: {top_features_wrapper['Feature'].values}\n")

print("Embedded Method - Feature Importance (Lasso):")
print(lasso_coefficients)
print(f"\nTop features selected: {top_features_embedded['Feature'].values}")
