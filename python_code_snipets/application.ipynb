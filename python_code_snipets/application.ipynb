import tkinter as tk
from tkinter import messagebox
import pickle
import numpy as np

# Load model and scaler
with open("best_classification_model.pkl", "rb") as f:
    model = pickle.load(f)

with open("scaler.pkl", "rb") as f:
    scaler = pickle.load(f)

# 30 feature names expected
features = [
    'radius_mean', 'texture_mean', 'perimeter_mean', 'area_mean', 'smoothness_mean',
    'compactness_mean', 'concavity_mean', 'concave points_mean', 'symmetry_mean', 'fractal_dimension_mean',
    'radius_se', 'texture_se', 'perimeter_se', 'area_se', 'smoothness_se',
    'compactness_se', 'concavity_se', 'concave points_se', 'symmetry_se', 'fractal_dimension_se',
    'radius_worst', 'texture_worst', 'perimeter_worst', 'area_worst', 'smoothness_worst',
    'compactness_worst', 'concavity_worst', 'concave points_worst', 'symmetry_worst', 'fractal_dimension_worst'
]

# Setup main window
app = tk.Tk()
app.title("Breast Cancer Diagnosis Predictor")
app.geometry("600x800")
entries = []

def predict():
    try:
        # Get user input and convert to float
        data = [float(entry.get()) for entry in entries]

        # Scale and predict
        data_scaled = scaler.transform([data])
        prediction = model.predict(data_scaled)[0]

        result = "Malignant (Cancerous)" if prediction == 1 else "Benign (Non-cancerous)"
        messagebox.showinfo("Prediction Result", f"The tumor is likely: {result}")
    except ValueError:
        messagebox.showerror("Input Error", "Please enter valid numeric values for all fields.")

# Create entry fields for each feature
for i, feature in enumerate(features):
    label = tk.Label(app, text=feature)
    label.grid(row=i, column=0, padx=10, pady=2, sticky='w')

    entry = tk.Entry(app, width=30)
    entry.grid(row=i, column=1, padx=10, pady=2)
    entries.append(entry)

# Predict button
predict_btn = tk.Button(app, text="Predict Diagnosis", command=predict, bg='green', fg='white', font=('Arial', 12, 'bold'))
predict_btn.grid(row=len(features), columnspan=2, pady=20)
app.mainloop()
