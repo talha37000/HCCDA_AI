import pandas as pd
df = pd.read_csv('data.csv')
df.drop(['id'], axis=1, inplace=True, errors='ignore')
print(df.isnull().sum())
df = df.fillna(df.mean(numeric_only=True))
df['diagnosis'] = df['diagnosis'].map({'M': 1, 'B': 0})
print("Shape after cleaning:", df.shape)
from sklearn.model_selection import train_test_split
from sklearn.preprocessing import StandardScaler
df.drop(['Unnamed: 32'], axis=1, inplace=True, errors='ignore')
X = df.drop('diagnosis', axis=1)
y = df['diagnosis']
X_train, X_test, y_train, y_test = train_test_split(X, y, test_size=0.2, random_state=42)
scaler = StandardScaler()
X_train_scaled = scaler.fit_transform(X_train)
X_test_scaled = scaler.transform(X_test)
from sklearn.linear_model import LogisticRegression
from sklearn.neighbors import KNeighborsClassifier
from sklearn.tree import DecisionTreeClassifier
from sklearn.ensemble import RandomForestClassifier
from sklearn.svm import SVC
from sklearn.metrics import accuracy_score, classification_report

models = {
    "Logistic Regression": LogisticRegression(max_iter=1000),
    "K-Nearest Neighbors": KNeighborsClassifier(),
    "Decision Tree": DecisionTreeClassifier(),
    "Random Forest": RandomForestClassifier(),
    "Support Vector Machine": SVC()
}

results = {}

for name, model in models.items():
    model.fit(X_train_scaled, y_train)
    y_pred = model.predict(X_test_scaled)
    acc = accuracy_score(y_test, y_pred)
    results[name] = acc
    print(f"🔹 {name} Accuracy: {acc:.4f}")
    print(classification_report(y_test, y_pred))

import pickle

with open("best_classification_model.pkl", "wb") as f:
    pickle.dump(models["Support Vector Machine"], f)


with open("scaler.pkl", "wb") as f:
    pickle.dump(scaler, f)

print("✅ Model and scaler saved successfully.")
